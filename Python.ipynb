{
 "cells": [
  {
   "attachments": {},
   "cell_type": "markdown",
   "id": "053f14e8",
   "metadata": {},
   "source": [
    "# Explicaremos el procesamiento de texto en python\n"
   ]
  },
  {
   "attachments": {},
   "cell_type": "markdown",
   "id": "25944eef",
   "metadata": {},
   "source": [
    "definimos una variable tipo string"
   ]
  },
  {
   "cell_type": "code",
   "execution_count": 2,
   "id": "86fe4fb7",
   "metadata": {},
   "outputs": [],
   "source": [
    "saludo = 'Hola Mundo!'"
   ]
  },
  {
   "attachments": {},
   "cell_type": "markdown",
   "id": "75562699",
   "metadata": {},
   "source": [
    "### Ahora veremos varios metodos para modificar strings"
   ]
  },
  {
   "attachments": {},
   "cell_type": "markdown",
   "id": "51df7cbd",
   "metadata": {},
   "source": [
    "El metodo *.upper()* nos permite convertir letras o frases de minúsculas a mayúsculas"
   ]
  },
  {
   "cell_type": "code",
   "execution_count": 3,
   "id": "13d97746",
   "metadata": {},
   "outputs": [
    {
     "data": {
      "text/plain": [
       "'HOLA MUNDO!'"
      ]
     },
     "execution_count": 3,
     "metadata": {},
     "output_type": "execute_result"
    }
   ],
   "source": [
    "saludo.upper()"
   ]
  },
  {
   "attachments": {},
   "cell_type": "markdown",
   "id": "093282c4",
   "metadata": {},
   "source": [
    "El metodo *.lower()* nos permite convertir letras o frases de mayúsculas a minúsculas"
   ]
  },
  {
   "cell_type": "code",
   "execution_count": 4,
   "id": "dbd9e477",
   "metadata": {},
   "outputs": [
    {
     "data": {
      "text/plain": [
       "'hola mundo!'"
      ]
     },
     "execution_count": 4,
     "metadata": {},
     "output_type": "execute_result"
    }
   ],
   "source": [
    "saludo.lower()"
   ]
  },
  {
   "attachments": {},
   "cell_type": "markdown",
   "id": "b59eb12d",
   "metadata": {},
   "source": [
    "El metodo *.capitalize()* nos permite convertir la primera letra de una frase en mayúscula"
   ]
  },
  {
   "cell_type": "code",
   "execution_count": 5,
   "id": "1a037afd",
   "metadata": {},
   "outputs": [
    {
     "data": {
      "text/plain": [
       "'Hola mundo!'"
      ]
     },
     "execution_count": 5,
     "metadata": {},
     "output_type": "execute_result"
    }
   ],
   "source": [
    "saludo.capitalize()"
   ]
  },
  {
   "attachments": {},
   "cell_type": "markdown",
   "id": "72df5a3d",
   "metadata": {},
   "source": [
    "El *strip()* método elimina cualquier espacio en blanco desde el principio o el final"
   ]
  },
  {
   "cell_type": "code",
   "execution_count": 6,
   "id": "5584ff52",
   "metadata": {},
   "outputs": [
    {
     "data": {
      "text/plain": [
       "'Hello, World!'"
      ]
     },
     "execution_count": 6,
     "metadata": {},
     "output_type": "execute_result"
    }
   ],
   "source": [
    "a = \" Hello, World! \"\n",
    "a.strip()"
   ]
  },
  {
   "attachments": {},
   "cell_type": "markdown",
   "id": "ae21861a",
   "metadata": {},
   "source": [
    "El *replace()* método reemplaza una cadena con otra cadena:"
   ]
  },
  {
   "cell_type": "code",
   "execution_count": 8,
   "id": "ad3a1f50",
   "metadata": {},
   "outputs": [
    {
     "data": {
      "text/plain": [
       "' salut, World! '"
      ]
     },
     "execution_count": 8,
     "metadata": {},
     "output_type": "execute_result"
    }
   ],
   "source": [
    "a.replace('Hello','salut')"
   ]
  },
  {
   "attachments": {},
   "cell_type": "markdown",
   "id": "7ab48c02",
   "metadata": {},
   "source": [
    "El metodo *startswith()* determina si una cadena empieza con esa letra de ser cierto tira True de lo contrario False "
   ]
  },
  {
   "cell_type": "code",
   "execution_count": 15,
   "id": "533e7f4d",
   "metadata": {},
   "outputs": [
    {
     "data": {
      "text/plain": [
       "True"
      ]
     },
     "execution_count": 15,
     "metadata": {},
     "output_type": "execute_result"
    }
   ],
   "source": [
    "start = 'Empiezo'\n",
    "start.startswith('E')"
   ]
  },
  {
   "attachments": {},
   "cell_type": "markdown",
   "id": "cbe14cde",
   "metadata": {},
   "source": [
    "El metodo *endswith()* determina si una cadena termina con esa letra de ser cierto tira True de lo contrario False "
   ]
  },
  {
   "cell_type": "code",
   "execution_count": 17,
   "id": "3db8d140",
   "metadata": {},
   "outputs": [
    {
     "data": {
      "text/plain": [
       "True"
      ]
     },
     "execution_count": 17,
     "metadata": {},
     "output_type": "execute_result"
    }
   ],
   "source": [
    "end = 'Termino'\n",
    "end.endswith('no')"
   ]
  },
  {
   "attachments": {},
   "cell_type": "markdown",
   "id": "95bf0674",
   "metadata": {},
   "source": [
    "#### Ejercicio 1"
   ]
  },
  {
   "attachments": {},
   "cell_type": "markdown",
   "id": "301b6a5c",
   "metadata": {},
   "source": [
    "Cree una variable que contenga una cadena con la frase 'esté es un Trabajo con python' y luego cambie la frase 'Trabajo' por 'Ejercicio' y  ponga la primera letra en mayúscula"
   ]
  }
 ],
 "metadata": {
  "kernelspec": {
   "display_name": "Python 3 (ipykernel)",
   "language": "python",
   "name": "python3"
  },
  "language_info": {
   "codemirror_mode": {
    "name": "ipython",
    "version": 3
   },
   "file_extension": ".py",
   "mimetype": "text/x-python",
   "name": "python",
   "nbconvert_exporter": "python",
   "pygments_lexer": "ipython3",
   "version": "3.11.2"
  }
 },
 "nbformat": 4,
 "nbformat_minor": 5
}
