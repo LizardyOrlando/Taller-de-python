{
 "cells": [
  {
   "attachments": {},
   "cell_type": "markdown",
   "metadata": {},
   "source": [
    "# La función FOR\n",
    "* Es utilizado para iterar un proceso dos o mas veces, ahorrando tiempo y memoria.\n",
    "\n",
    "Un ejemplo seria:"
   ]
  },
  {
   "cell_type": "code",
   "execution_count": null,
   "metadata": {},
   "outputs": [],
   "source": [
    "texto = \"Hola mundo!\"\n",
    "\n",
    "for i in range(5):\n",
    "    print(texto)"
   ]
  },
  {
   "attachments": {},
   "cell_type": "markdown",
   "metadata": {},
   "source": [
    "En el codigo anterior muestra:\n",
    "* Como usar for\n",
    "* como funciona range()"
   ]
  },
  {
   "attachments": {},
   "cell_type": "markdown",
   "metadata": {},
   "source": [
    "# La funcion Split \n",
    "* Se utiliza para procesar una linea de texto y su funcion principal separa el texto utilizando, en este caso, los dos puntos \" : \".\n",
    "\n",
    "En el siguiente ejemplo la funcion split te crea automaticamente una lista en donde guarda los valores. Ejecutar para mostrar su resultado.\n"
   ]
  },
  {
   "cell_type": "code",
   "execution_count": null,
   "metadata": {},
   "outputs": [],
   "source": [
    "texto = 'Diversion: Este deporte me hace sentir bien tanto emocional,mental como físicamente. Mi nivel de habilidad es bastante alto de hecho soy profesor de tal deporte y es usado por personas de diferente género.'\n",
    "palabra = texto.split(':')\n",
    "print(palabra)"
   ]
  },
  {
   "attachments": {},
   "cell_type": "markdown",
   "metadata": {},
   "source": [
    "Ejecutando el codigo anterior muestra:\n",
    "* Una lista con varios valores, este guarda como [0] la palabra clave \"Diversion\" y como [1] la respuesta.\n",
    "\n",
    "* Cada valor se separa por una coma y se encuentran entre comillas simples."
   ]
  },
  {
   "attachments": {},
   "cell_type": "markdown",
   "metadata": {},
   "source": [
    "# Ejercicio\n",
    "1. Utilizando la función Split Dividir el contenido por cada espacio que encuentre y mostrarlo en pantalla.\n",
    "\n",
    "* Pista: Modificar adentro del parentesis del Split."
   ]
  },
  {
   "cell_type": "code",
   "execution_count": null,
   "metadata": {},
   "outputs": [],
   "source": [
    "texto = \"lo descubri de pequeño cuando mi primo me enseño a jugar al minecraft. Yo solo participe de un evento que se hizo en la plata sobre videojuegos hechos en la argentina, pero me gustaria poder ir a eventos como la gamescom y el E3. También participo en comunidades de reddit.\"\n"
   ]
  },
  {
   "attachments": {},
   "cell_type": "markdown",
   "metadata": {},
   "source": [
    "# La funcion Splitlines\n",
    "* Guarda las lineas que queramos obviando las innecesarias.\n",
    "\n",
    "En el documento de abajo muestra como usar Splitlines utilizando una definición de Python. Este codigo va a mostrar el segundo parrafo obviando el primero."
   ]
  },
  {
   "cell_type": "code",
   "execution_count": 21,
   "metadata": {},
   "outputs": [
    {
     "name": "stdout",
     "output_type": "stream",
     "text": [
      "['Una de las fortalezas de Python es su extensa biblioteca estándar, que proporciona una amplia gama de módulos y herramientas para realizar diversas tareas. Además, cuenta con una gran comunidad de desarrolladores que contribuyen con paquetes y frameworks adicionales, lo que amplía aún más sus capacidades.']\n"
     ]
    }
   ],
   "source": [
    "definicion = '''\n",
    "Python es un lenguaje de programación de alto nivel y de propósito general. Fue creado a fines de la década de 1980 por Guido van Rossum y se caracteriza por su sintaxis clara y legible, lo que facilita la escritura y comprensión del código. Python se ha vuelto extremadamente popular debido a su facilidad de uso y versatilidad. Es ampliamente utilizado en diversos campos como desarrollo web, análisis de datos, inteligencia artificial, automatización de tareas, entre otros.\n",
    "Una de las fortalezas de Python es su extensa biblioteca estándar, que proporciona una amplia gama de módulos y herramientas para realizar diversas tareas. Además, cuenta con una gran comunidad de desarrolladores que contribuyen con paquetes y frameworks adicionales, lo que amplía aún más sus capacidades.\n",
    "''' \n",
    "\n",
    "texto = definicion.splitlines()[2:3]\n",
    "\n",
    "print(texto)"
   ]
  },
  {
   "attachments": {},
   "cell_type": "markdown",
   "metadata": {},
   "source": [
    "# Ejercicio\n",
    "1. Usando el Hobby anteriormente creado mostrar las lineas donde muestre el subtitulo y las respuestas, obviando el titulo.\n",
    "\n",
    "* Pista: Las listas empiezan con 0. "
   ]
  },
  {
   "cell_type": "code",
   "execution_count": null,
   "metadata": {},
   "outputs": [],
   "source": [
    "hobby = '''\n",
    "\n",
    "\n",
    "'''"
   ]
  },
  {
   "attachments": {},
   "cell_type": "markdown",
   "metadata": {},
   "source": [
    "# La función Replace\n",
    "* Se utiliza para \"reemplazar\" cierta parte del cotenido.\n",
    "\n",
    "Un ejemplo seria:"
   ]
  },
  {
   "cell_type": "code",
   "execution_count": 22,
   "metadata": {},
   "outputs": [
    {
     "name": "stdout",
     "output_type": "stream",
     "text": [
      "Son las 8 y estoy llegando tarde a la escuela.\n"
     ]
    }
   ],
   "source": [
    "texto = \"Son las 6 y estoy llegando tarde a la escuela.\"\n",
    "reemplazo = texto.replace(\"6\", \"8\")\n",
    "print(reemplazo)"
   ]
  },
  {
   "attachments": {},
   "cell_type": "markdown",
   "metadata": {},
   "source": [
    "# Ejercicio\n",
    "1. Orlandito tiene que hacer una suma que de como total 8. Empezo haciendo 4 + 6, que numero tendria que cambiar para que el resultado sea 8.\n",
    "\n",
    "* Pista: Lo que se cambie en replace se tiene que guardar en otra variable."
   ]
  },
  {
   "cell_type": "code",
   "execution_count": null,
   "metadata": {},
   "outputs": [],
   "source": [
    "calculo = \"4 + 6 = 8\""
   ]
  }
 ],
 "metadata": {
  "kernelspec": {
   "display_name": "Python 3",
   "language": "python",
   "name": "python3"
  },
  "language_info": {
   "codemirror_mode": {
    "name": "ipython",
    "version": 3
   },
   "file_extension": ".py",
   "mimetype": "text/x-python",
   "name": "python",
   "nbconvert_exporter": "python",
   "pygments_lexer": "ipython3",
   "version": "3.11.0rc1"
  },
  "orig_nbformat": 4
 },
 "nbformat": 4,
 "nbformat_minor": 2
}
