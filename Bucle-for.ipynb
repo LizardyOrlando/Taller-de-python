{
 "cells": [
  {
   "cell_type": "markdown",
   "id": "3ab1e38e",
   "metadata": {},
   "source": [
    "#  Que es splitlines.\n",
    "\n",
    "El for se utiliza para iterar sobre un objeto iterable y ejecutar un bloque de código para cada elemento en la secuencia de dicho objeto.\n",
    "En Python, el método splitlines() se utiliza para dividir una cadena en una lista de subcadenas, utilizando como separador cualquier combinación de caracteres de salto de línea\n"
   ]
  },
  {
   "cell_type": "markdown",
   "id": "e037bfe1",
   "metadata": {},
   "source": [
    "# para que sirve."
   ]
  },
  {
   "cell_type": "markdown",
   "id": "3d523c3d",
   "metadata": {},
   "source": [
    "# Como funciona.\n",
    "1.- procesamiento de archivos de texto: Para leer un archivo de texto, se puede utilizar SplitLines() para dividirlo en lineas individuales y luego realizar operacioes.\n",
    "nálisis de log: Si estás analizando archivos de log que contienen registros de eventos en líneas separadas, splitlines() te permite dividir el archivo en líneas individuales para procesar y extraer información de cada registro.\n",
    "\n",
    "Validación de entradas de usuario: Si esperas que los usuarios ingresen múltiples líneas de texto en un campo de entrada, puedes utilizar splitlines() para dividir el texto ingresado en líneas y realizar validaciones o procesamiento adicional en cada línea.\n",
    "\n",
    "Manipulación de datos estructurados: Si tienes datos estructurados en una cadena de texto con líneas separadas, puedes utilizar splitlines() para dividir el texto en líneas individuales y luego procesar cada línea según la estructura de datos requerida.\n"
   ]
  },
  {
   "cell_type": "code",
   "execution_count": null,
   "id": "f67b6825",
   "metadata": {},
   "outputs": [],
   "source": [
    "texto = \"Hola\\nMundo\\nPython\"\n",
    "\n",
    "lineas = texto.splitlines()\n",
    "print(lineas)\n",
    "\n",
    "salida:\n",
    "    \n",
    "['Hola\\n', 'Mundo\\n', 'Python']\n"
   ]
  }
 ],
 "metadata": {
  "kernelspec": {
   "display_name": "Python 3 (ipykernel)",
   "language": "python",
   "name": "python3"
  },
  "language_info": {
   "codemirror_mode": {
    "name": "ipython",
    "version": 3
   },
   "file_extension": ".py",
   "mimetype": "text/x-python",
   "name": "python",
   "nbconvert_exporter": "python",
   "pygments_lexer": "ipython3",
   "version": "3.8.10"
  }
 },
 "nbformat": 4,
 "nbformat_minor": 5
}
