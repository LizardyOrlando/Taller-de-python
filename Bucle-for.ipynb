{
 "cells": [
  {
   "cell_type": "markdown",
   "id": "3ab1e38e",
   "metadata": {},
   "source": [
    "# Explicacion del For, como funciona.\n",
    "\n",
    "El for se utiliza para iterar sobre un objeto iterable y ejecutar un bloque de código para cada elemento en la secuencia de dicho objeto.\n",
    "\n",
    "El bucle for repite el bloque de instrucciones un número predeterminado de veces.\n",
    "\n",
    "ejemplo del for:"
   ]
  },
  {
   "cell_type": "code",
   "execution_count": null,
   "id": "c1b2b173",
   "metadata": {},
   "outputs": [],
   "source": [
    "for AA in Lista\n"
   ]
  },
  {
   "cell_type": "markdown",
   "id": "f9c9dbf4",
   "metadata": {},
   "source": [
    "#  Que es splitlines, para que sirve y como funciona.\n",
    "\n",
    "El método splitlines() divide una cadena en los saltos de línea y los devuelve en una lista.\n"
   ]
  },
  {
   "cell_type": "code",
   "execution_count": null,
   "id": "5aa65107",
   "metadata": {},
   "outputs": [],
   "source": []
  }
 ],
 "metadata": {
  "kernelspec": {
   "display_name": "Python 3 (ipykernel)",
   "language": "python",
   "name": "python3"
  },
  "language_info": {
   "codemirror_mode": {
    "name": "ipython",
    "version": 3
   },
   "file_extension": ".py",
   "mimetype": "text/x-python",
   "name": "python",
   "nbconvert_exporter": "python",
   "pygments_lexer": "ipython3",
   "version": "3.8.10"
  }
 },
 "nbformat": 4,
 "nbformat_minor": 5
}
