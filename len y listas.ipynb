{
 "cells": [
  {
   "cell_type": "markdown",
   "metadata": {},
   "source": [
    "La funcion len es una funcion que nos permite determinar la longitud de la variable, osea la cantidad de caracteres que tiene la variable. en este ejemplo se crea una variable que se llama palabra con un texto adentro y despues usando el print escribimos la longitud de palabra. para eso tenemos que poner len()y la variable adentro del parentesis."
   ]
  },
  {
   "cell_type": "code",
   "execution_count": 2,
   "metadata": {},
   "outputs": [
    {
     "name": "stdout",
     "output_type": "stream",
     "text": [
      "47\n"
     ]
    }
   ],
   "source": [
    "palabras = \"la funcion len cuenta la cantidad de caracteres\"\n",
    "print(len(palabras))"
   ]
  },
  {
   "cell_type": "markdown",
   "metadata": {},
   "source": [
    "una lista es un tipo de estructura de dato que nos permite almacenar cualquier cantidad y tipo de datos dentro de ella.\n",
    "Una lista se crea utilizando []."
   ]
  },
  {
   "cell_type": "code",
   "execution_count": null,
   "metadata": {},
   "outputs": [],
   "source": [
    "lista = []"
   ]
  },
  {
   "cell_type": "markdown",
   "metadata": {},
   "source": [
    "para guardar datos dentro de la lista se pone el dato y se lo separa de otros con ,."
   ]
  },
  {
   "cell_type": "code",
   "execution_count": 3,
   "metadata": {},
   "outputs": [],
   "source": [
    "lista = [30,40,50,60]"
   ]
  },
  {
   "cell_type": "markdown",
   "metadata": {},
   "source": [
    "en las lista de python se nos permite almacenar tipos de datos distintos a la vez."
   ]
  },
  {
   "cell_type": "code",
   "execution_count": null,
   "metadata": {},
   "outputs": [],
   "source": [
    "lista = [\"hola\",34,3.4,[1,2,3],True]"
   ]
  },
  {
   "cell_type": "markdown",
   "metadata": {},
   "source": [
    "para agregar un dato en la lista se puede utilizar la funcion append."
   ]
  },
  {
   "cell_type": "code",
   "execution_count": 5,
   "metadata": {},
   "outputs": [
    {
     "name": "stdout",
     "output_type": "stream",
     "text": [
      "[1, 2, 3, 4, 5]\n"
     ]
    }
   ],
   "source": [
    "lista = [1,2,3,4]\n",
    "lista.append(5)\n",
    "print(lista)"
   ]
  },
  {
   "cell_type": "markdown",
   "metadata": {},
   "source": [
    "para acceder a una posicion de una lista es tan facil como poner la lista y la posicion en []."
   ]
  },
  {
   "cell_type": "code",
   "execution_count": 6,
   "metadata": {},
   "outputs": [
    {
     "name": "stdout",
     "output_type": "stream",
     "text": [
      "3\n"
     ]
    }
   ],
   "source": [
    "lista = [1,2,3]\n",
    "print(lista[2])"
   ]
  },
  {
   "cell_type": "markdown",
   "metadata": {},
   "source": [
    "# Ejercicio\n",
    "**Mostrar la cantidad de caracteres que tiene una de las posiciones de la lista**\n",
    "Pista: Las listas empiezan en 0"
   ]
  },
  {
   "cell_type": "code",
   "execution_count": 12,
   "metadata": {},
   "outputs": [
    {
     "name": "stdout",
     "output_type": "stream",
     "text": [
      "8\n"
     ]
    }
   ],
   "source": [
    "lista = [\"Creeper\",\"ghast\",\"enderman\",\"blaze\"]"
   ]
  }
 ],
 "metadata": {
  "kernelspec": {
   "display_name": "Python 2.7.18 64-bit",
   "language": "python",
   "name": "python3"
  },
  "language_info": {
   "codemirror_mode": {
    "name": "ipython",
    "version": 2
   },
   "file_extension": ".py",
   "mimetype": "text/x-python",
   "name": "python",
   "nbconvert_exporter": "python",
   "pygments_lexer": "ipython2",
   "version": "2.7.18"
  },
  "orig_nbformat": 4,
  "vscode": {
   "interpreter": {
    "hash": "e55666fbbf217aa3df372b978577f47b6009e2f78e2ec76a584f49cd54a1e62c"
   }
  }
 },
 "nbformat": 4,
 "nbformat_minor": 2
}
